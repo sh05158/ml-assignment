{
 "cells": [
  {
   "cell_type": "markdown",
   "metadata": {},
   "source": [
    "# Least square problem for polynomial regression "
   ]
  },
  {
   "cell_type": "markdown",
   "metadata": {},
   "source": [
    "## import library"
   ]
  },
  {
   "cell_type": "code",
   "execution_count": null,
   "metadata": {},
   "outputs": [],
   "source": [
    "import numpy as np\n",
    "import matplotlib.image as img\n",
    "import matplotlib.pyplot as plt\n",
    "import matplotlib.colors as colors"
   ]
  },
  {
   "cell_type": "markdown",
   "metadata": {},
   "source": [
    "## load data points\n",
    "- $\\{ (x_i, y_i) \\}_{i=1}^n$"
   ]
  },
  {
   "cell_type": "code",
   "execution_count": null,
   "metadata": {},
   "outputs": [],
   "source": [
    "filename    = 'assignment_05_data.csv'\n",
    "data        = np.loadtxt(filename, delimiter = ',')\n",
    "\n",
    "x           = data[0, :]    # independent variable\n",
    "y           = data[1, :]    # dependent variable\n",
    "\n",
    "x_sample    = x[::10]       \n",
    "y_sample    = y[::10]\n",
    "\n",
    "plt.figure(figsize=(16,6))\n",
    "\n",
    "plt.subplot(121)\n",
    "plt.plot(x, y, '-', color = 'blue')\n",
    "plt.title('data points')\n",
    "\n",
    "plt.subplot(122)\n",
    "plt.plot(x, y, '-', color = 'blue')\n",
    "plt.plot(x_sample, y_sample, 'o', color = 'red')\n",
    "plt.title('samples of data points (every 10 points)')\n",
    "\n",
    "plt.tight_layout()\n",
    "plt.show()"
   ]
  },
  {
   "cell_type": "markdown",
   "metadata": {},
   "source": [
    "## solve a linear system of equation $A z = b$\n",
    "$$\n",
    "A = \n",
    "\\begin{bmatrix}\n",
    "x_1^0 & x_1^1 & \\cdots & x_1^{p-1}\\\\\n",
    "x_2^0 & x_2^1 & \\cdots & x_2^{p-1}\\\\\n",
    "\\vdots & \\vdots & \\vdots & \\vdots\\\\\n",
    "x_n^0 & x_n^1 & \\cdots & x_n^{p-1}\n",
    "\\end{bmatrix},\n",
    "\\quad\n",
    "z = \n",
    "\\begin{bmatrix}\n",
    "\\theta_0\\\\\n",
    "\\theta_1\\\\\n",
    "\\vdots\\\\\n",
    "\\theta_{p-1}\n",
    "\\end{bmatrix},\n",
    "\\quad\n",
    "b = \n",
    "\\begin{bmatrix}\n",
    "y_1\\\\\n",
    "y_2\\\\\n",
    "\\vdots\\\\\n",
    "y_n\n",
    "\\end{bmatrix}\n",
    "$$"
   ]
  },
  {
   "cell_type": "markdown",
   "metadata": {},
   "source": [
    "## construct matrix A for the polynomial regression with power $p-1$\n",
    "- useful functions : `np.power`"
   ]
  },
  {
   "cell_type": "code",
   "execution_count": null,
   "metadata": {},
   "outputs": [],
   "source": [
    "def construct_matrix_A(x, p):\n",
    "    \n",
    "    n = len(x)\n",
    "    A = np.zeros([n, p])\n",
    "    \n",
    "    # ++++++++++++++++++++++++++++++++++++++++++++++++++\n",
    "    # complete the blanks\n",
    "    #\n",
    "    \n",
    "    A = np.power( x[ : ,np.newaxis], range(p) )\n",
    "    \n",
    "    \n",
    "    #\n",
    "    # ++++++++++++++++++++++++++++++++++++++++++++++++++\n",
    "\n",
    "    return A\n",
    "\n",
    "print(construct_matrix_A(x, 3))"
   ]
  },
  {
   "cell_type": "markdown",
   "metadata": {},
   "source": [
    "## construct vector $b$"
   ]
  },
  {
   "cell_type": "code",
   "execution_count": null,
   "metadata": {},
   "outputs": [],
   "source": [
    "def construct_vector_b(y):\n",
    "\n",
    "    n = len(y)\n",
    "    b = np.zeros([n, 1])\n",
    "\n",
    "    # ++++++++++++++++++++++++++++++++++++++++++++++++++\n",
    "    # complete the blanks\n",
    "    #\n",
    "    \n",
    "    b = np.array(y)\n",
    "    \n",
    "    #\n",
    "    # ++++++++++++++++++++++++++++++++++++++++++++++++++\n",
    "\n",
    "    return b"
   ]
  },
  {
   "cell_type": "markdown",
   "metadata": {},
   "source": [
    "## solve the linear system of equation $A z = b$\n",
    "- without regularization : $\\min \\frac{1}{2 n}\\| Az - b \\|^2, \\quad z = \\left( A^T A \\right)^{-1} A^T b$\n",
    "- useful functions : `np.matmul, np.linalg.inv, np.sum`"
   ]
  },
  {
   "cell_type": "code",
   "execution_count": null,
   "metadata": {},
   "outputs": [],
   "source": [
    "def solve_regression(x, y, p):\n",
    "\n",
    "    z       = np.zeros([p, 1])\n",
    "    loss    = 0\n",
    "\n",
    "    # ++++++++++++++++++++++++++++++++++++++++++++++++++\n",
    "    # complete the blanks\n",
    "    #\n",
    "\n",
    "    A = construct_matrix_A(x, p)\n",
    "    b = construct_vector_b(y)\n",
    "    z = np.matmul( np.matmul(np.linalg.inv( np.matmul(A.T,A) ), A.T), b)\n",
    "    \n",
    "    A0 = np.matmul( A, z )    \n",
    "    \n",
    "    loss = np.sum( np.power(A0 - y, 2) ) / 2*len(x)\n",
    "    \n",
    "   \n",
    "    \n",
    "    #\n",
    "    # ++++++++++++++++++++++++++++++++++++++++++++++++++\n",
    "\n",
    "    return z, loss"
   ]
  },
  {
   "cell_type": "markdown",
   "metadata": {},
   "source": [
    "- with regularization : $\\min \\frac{1}{2 n} \\| A z - b \\|^2 + \\frac{\\alpha}{2} \\| z \\|^2, \\quad z = \\left(A^{T} A + n \\alpha I \\right)^{-1} A^T b$ where $I$ denotes identity matrix\n",
    "- useful functions : `np.matmul, np.linalg.inv, np.sum`"
   ]
  },
  {
   "cell_type": "code",
   "execution_count": null,
   "metadata": {},
   "outputs": [],
   "source": [
    "def solve_regression_with_regularization(x, y, p, alpha):\n",
    "\n",
    "    z       = np.zeros([p, 1])\n",
    "    loss    = 0\n",
    "\n",
    "    # ++++++++++++++++++++++++++++++++++++++++++++++++++\n",
    "    # complete the blanks\n",
    "    #\n",
    "    \n",
    "    \n",
    "    A = construct_matrix_A(x, p)\n",
    "    b = construct_vector_b(y)\n",
    "    \n",
    "  \n",
    "    z = np.matmul( np.matmul(np.linalg.inv( np.matmul(A.T,A) + len(x)*alpha*np.identity(p) ), A.T), b)\n",
    "    \n",
    "    A0 = np.matmul( A, z )    \n",
    "    \n",
    "    loss = np.sum( np.power(A0 - y, 2) ) / 2*len(x) + np.sum(np.power(z, 2)) * alpha/2\n",
    "    \n",
    "    #\n",
    "    # ++++++++++++++++++++++++++++++++++++++++++++++++++\n",
    "\n",
    "    return z, loss"
   ]
  },
  {
   "cell_type": "markdown",
   "metadata": {},
   "source": [
    "## approximate by polynomial regression\n",
    "- $ \\hat{y} = A z^* $\n",
    "- useful functions : `np.matmul`"
   ]
  },
  {
   "cell_type": "code",
   "execution_count": 91,
   "metadata": {},
   "outputs": [],
   "source": [
    "def approximate(x, y, p):\n",
    "\n",
    "    n       = len(y)\n",
    "    y_hat   = np.zeros([n, 1])\n",
    "    loss    = 0\n",
    "\n",
    "    # ++++++++++++++++++++++++++++++++++++++++++++++++++\n",
    "    # complete the blanks\n",
    "    #\n",
    "    \n",
    "    A = construct_matrix_A(x, p)\n",
    "    b = construct_vector_b(y)\n",
    "    \n",
    "    \n",
    "    y_hat, loss = solve_regression(x, y, p)\n",
    "    y_hat = np.matmul( A, y_hat )\n",
    "    \n",
    "    #\n",
    "    # ++++++++++++++++++++++++++++++++++++++++++++++++++\n",
    "\n",
    "    return y_hat, loss\n"
   ]
  },
  {
   "cell_type": "code",
   "execution_count": null,
   "metadata": {},
   "outputs": [],
   "source": [
    "def approximate_with_regularization(x, y, p, alpha):\n",
    "    \n",
    "    n       = len(y)\n",
    "    y_hat   = np.zeros([n, 1])\n",
    "    loss    = 0\n",
    "\n",
    "    # ++++++++++++++++++++++++++++++++++++++++++++++++++\n",
    "    # complete the blanks\n",
    "    #\n",
    "    \n",
    "    A = construct_matrix_A(x, p)\n",
    "    b = construct_vector_b(y)\n",
    "    \n",
    "    \n",
    "    y_hat, loss = solve_regression_with_regularization(x, y, p, alpha)\n",
    "    y_hat = np.matmul( A, y_hat )\n",
    "    \n",
    "    \n",
    "    #\n",
    "    # ++++++++++++++++++++++++++++++++++++++++++++++++++\n",
    "\n",
    "    return y_hat, loss"
   ]
  },
  {
   "cell_type": "markdown",
   "metadata": {},
   "source": [
    "___"
   ]
  },
  {
   "cell_type": "markdown",
   "metadata": {},
   "source": [
    "___"
   ]
  },
  {
   "cell_type": "markdown",
   "metadata": {},
   "source": [
    "## functions for presenting the results"
   ]
  },
  {
   "cell_type": "markdown",
   "metadata": {},
   "source": [
    "___"
   ]
  },
  {
   "cell_type": "markdown",
   "metadata": {},
   "source": [
    "___"
   ]
  },
  {
   "cell_type": "code",
   "execution_count": null,
   "metadata": {},
   "outputs": [],
   "source": [
    "def function_result_01():\n",
    "    \n",
    "    plt.figure(figsize=(8,6))\n",
    "    plt.plot(x, y, '-', color='blue')\n",
    "    plt.title('data points')\n",
    "    plt.show()"
   ]
  },
  {
   "cell_type": "code",
   "execution_count": null,
   "metadata": {},
   "outputs": [],
   "source": [
    "def function_result_02():\n",
    "\n",
    "    p           = 2\n",
    "    (y_hat, _)  = approximate(x, y, p)\n",
    "\n",
    "    plt.figure(figsize=(8,6))\n",
    "    plt.plot(x, y, '-', color='blue')\n",
    "    plt.plot(x, y_hat, '-', color='red')\n",
    "    plt.show()"
   ]
  },
  {
   "cell_type": "code",
   "execution_count": null,
   "metadata": {},
   "outputs": [],
   "source": [
    "def function_result_03():\n",
    "\n",
    "    p           = 4\n",
    "    (y_hat, _)  = approximate(x, y, p)\n",
    "\n",
    "    plt.figure(figsize=(8,6))\n",
    "    plt.plot(x, y, '-', color='blue')\n",
    "    plt.plot(x, y_hat, '-', color='red')\n",
    "    plt.show()"
   ]
  },
  {
   "cell_type": "code",
   "execution_count": null,
   "metadata": {},
   "outputs": [],
   "source": [
    "def function_result_04():\n",
    "\n",
    "    p           = 8\n",
    "    (y_hat, _)  = approximate(x, y, p)\n",
    "\n",
    "    plt.figure(figsize=(8,6))\n",
    "    plt.plot(x, y, '-', color='blue')\n",
    "    plt.plot(x, y_hat, '-', color='red')\n",
    "    plt.show()"
   ]
  },
  {
   "cell_type": "code",
   "execution_count": null,
   "metadata": {},
   "outputs": [],
   "source": [
    "def function_result_05():\n",
    "\n",
    "    p           = 16\n",
    "    (y_hat, _)  = approximate(x, y, p)\n",
    "\n",
    "    plt.figure(figsize=(8,6))\n",
    "    plt.plot(x, y, '-', color='blue')\n",
    "    plt.plot(x, y_hat, '-', color='red')\n",
    "    plt.show()"
   ]
  },
  {
   "cell_type": "code",
   "execution_count": null,
   "metadata": {},
   "outputs": [],
   "source": [
    "def function_result_06():\n",
    "\n",
    "    p           = 32 \n",
    "    (y_hat, _)  = approximate(x, y, p)\n",
    "\n",
    "    plt.figure(figsize=(8,6))\n",
    "    plt.plot(x, y, '-', color='blue')\n",
    "    plt.plot(x, y_hat, '-', color='red')\n",
    "    plt.show()"
   ]
  },
  {
   "cell_type": "code",
   "execution_count": null,
   "metadata": {},
   "outputs": [],
   "source": [
    "def function_result_07():\n",
    "\n",
    "    p           = 2 \n",
    "    alpha       = 0.1\n",
    "    (y_hat, _)  = approximate_with_regularization(x, y, p, alpha)\n",
    "\n",
    "    plt.figure(figsize=(8,6))\n",
    "    plt.plot(x, y, '-', color='blue')\n",
    "    plt.plot(x, y_hat, '-', color='red')\n",
    "    plt.show()"
   ]
  },
  {
   "cell_type": "code",
   "execution_count": null,
   "metadata": {},
   "outputs": [],
   "source": [
    "def function_result_08():\n",
    "\n",
    "    p           = 4 \n",
    "    alpha       = 0.1\n",
    "    (y_hat, _)  = approximate_with_regularization(x, y, p, alpha)\n",
    "\n",
    "    plt.figure(figsize=(8,6))\n",
    "    plt.plot(x, y, '-', color='blue')\n",
    "    plt.plot(x, y_hat, '-', color='red')\n",
    "    plt.show()"
   ]
  },
  {
   "cell_type": "code",
   "execution_count": null,
   "metadata": {},
   "outputs": [],
   "source": [
    "def function_result_09():\n",
    "\n",
    "    p           = 8 \n",
    "    alpha       = 0.1\n",
    "    (y_hat, _)  = approximate_with_regularization(x, y, p, alpha)\n",
    "\n",
    "    plt.figure(figsize=(8,6))\n",
    "    plt.plot(x, y, '-', color='blue')\n",
    "    plt.plot(x, y_hat, '-', color='red')\n",
    "    plt.show()"
   ]
  },
  {
   "cell_type": "code",
   "execution_count": null,
   "metadata": {},
   "outputs": [],
   "source": [
    "def function_result_10():\n",
    "\n",
    "    p           = 16 \n",
    "    alpha       = 0.1\n",
    "    (y_hat, _)  = approximate_with_regularization(x, y, p, alpha)\n",
    "\n",
    "    plt.figure(figsize=(8,6))\n",
    "    plt.plot(x, y, '-', color='blue')\n",
    "    plt.plot(x, y_hat, '-', color='red')\n",
    "    plt.show()"
   ]
  },
  {
   "cell_type": "code",
   "execution_count": null,
   "metadata": {},
   "outputs": [],
   "source": [
    "def function_result_11():\n",
    "\n",
    "    p           = 32 \n",
    "    alpha       = 0.1\n",
    "    (y_hat, _)  = approximate_with_regularization(x, y, p, alpha)\n",
    "\n",
    "    plt.figure(figsize=(8,6))\n",
    "    plt.plot(x, y, '-', color='blue')\n",
    "    plt.plot(x, y_hat, '-', color='red')\n",
    "    plt.show()"
   ]
  },
  {
   "cell_type": "code",
   "execution_count": null,
   "metadata": {},
   "outputs": [],
   "source": [
    "def function_result_12():\n",
    "\n",
    "    p           = 4\n",
    "    (_, loss)   = approximate(x, y, p)\n",
    "\n",
    "    print('loss = ', loss)"
   ]
  },
  {
   "cell_type": "code",
   "execution_count": null,
   "metadata": {},
   "outputs": [],
   "source": [
    "def function_result_13():\n",
    "\n",
    "    p           = 16\n",
    "    (_, loss)   = approximate(x, y, p)\n",
    "\n",
    "    print('loss = ', loss)"
   ]
  },
  {
   "cell_type": "code",
   "execution_count": null,
   "metadata": {},
   "outputs": [],
   "source": [
    "def function_result_14():\n",
    "\n",
    "    p           = 4\n",
    "    alpha       = 0.1\n",
    "    (_, loss)   = approximate_with_regularization(x, y, p, alpha)\n",
    "\n",
    "    print('loss = ', loss)"
   ]
  },
  {
   "cell_type": "code",
   "execution_count": null,
   "metadata": {},
   "outputs": [],
   "source": [
    "def function_result_15():\n",
    "\n",
    "    p           = 16 \n",
    "    alpha       = 0.1\n",
    "    (_, loss)   = approximate_with_regularization(x, y, p, alpha)\n",
    "\n",
    "    print('loss = ', loss)"
   ]
  },
  {
   "cell_type": "markdown",
   "metadata": {},
   "source": [
    "___"
   ]
  },
  {
   "cell_type": "markdown",
   "metadata": {},
   "source": [
    "___"
   ]
  },
  {
   "cell_type": "markdown",
   "metadata": {},
   "source": [
    "# results"
   ]
  },
  {
   "cell_type": "markdown",
   "metadata": {},
   "source": [
    "___"
   ]
  },
  {
   "cell_type": "markdown",
   "metadata": {},
   "source": [
    "___"
   ]
  },
  {
   "cell_type": "code",
   "execution_count": null,
   "metadata": {},
   "outputs": [],
   "source": [
    "number_result = 15\n",
    "\n",
    "for i in range(number_result):\n",
    "    title = '## [RESULT {:02d}]'.format(i+1)\n",
    "    name_function = 'function_result_{:02d}()'.format(i+1)\n",
    "\n",
    "    print('**************************************************')\n",
    "    print(title)\n",
    "    print('**************************************************')\n",
    "    eval(name_function)"
   ]
  }
 ],
 "metadata": {
  "kernelspec": {
   "display_name": "Python 3",
   "language": "python",
   "name": "python3"
  },
  "language_info": {
   "codemirror_mode": {
    "name": "ipython",
    "version": 3
   },
   "file_extension": ".py",
   "mimetype": "text/x-python",
   "name": "python",
   "nbconvert_exporter": "python",
   "pygments_lexer": "ipython3",
   "version": "3.9.7"
  }
 },
 "nbformat": 4,
 "nbformat_minor": 2
}
