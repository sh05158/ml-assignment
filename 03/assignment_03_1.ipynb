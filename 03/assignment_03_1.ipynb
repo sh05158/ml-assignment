{
 "cells": [
  {
   "cell_type": "markdown",
   "metadata": {},
   "source": [
    "# Gradient of Image"
   ]
  },
  {
   "cell_type": "markdown",
   "metadata": {},
   "source": [
    "## import library"
   ]
  },
  {
   "cell_type": "code",
   "execution_count": 2,
   "metadata": {},
   "outputs": [],
   "source": [
    "import numpy as np\n",
    "import matplotlib.image as img\n",
    "import matplotlib.pyplot as plt\n",
    "from matplotlib import cm\n",
    "import matplotlib.colors as colors"
   ]
  },
  {
   "cell_type": "markdown",
   "metadata": {},
   "source": [
    "## load input image ('test.jpeg')"
   ]
  },
  {
   "cell_type": "code",
   "execution_count": 3,
   "metadata": {},
   "outputs": [],
   "source": [
    "I0 = img.imread('test.jpeg')"
   ]
  },
  {
   "cell_type": "markdown",
   "metadata": {},
   "source": [
    "## check the size of the input image"
   ]
  },
  {
   "cell_type": "code",
   "execution_count": 4,
   "metadata": {},
   "outputs": [
    {
     "name": "stdout",
     "output_type": "stream",
     "text": [
      "number of rows of I0 =  510\n",
      "number of columns of I0 =  512\n",
      "number of channels of I0 =  3\n"
     ]
    }
   ],
   "source": [
    "# ++++++++++++++++++++++++++++++++++++++++++++++++++\n",
    "# complete the blanks\n",
    "#\n",
    "num_row     = I0.shape[0]\n",
    "num_column  = I0.shape[1]\n",
    "num_channel = I0.shape[2]\n",
    "#\n",
    "# ++++++++++++++++++++++++++++++++++++++++++++++++++\n",
    "\n",
    "print('number of rows of I0 = ', num_row)\n",
    "print('number of columns of I0 = ', num_column)\n",
    "print('number of channels of I0 = ', num_channel)"
   ]
  },
  {
   "cell_type": "markdown",
   "metadata": {},
   "source": [
    "## convert the color image into a grey image\n",
    "- take the average of the input image with 3 channels with respect to the channels into an image with 1 channel"
   ]
  },
  {
   "cell_type": "code",
   "execution_count": 28,
   "metadata": {},
   "outputs": [
    {
     "name": "stdout",
     "output_type": "stream",
     "text": [
      "(510, 512)\n",
      "number of rows of I =  510\n",
      "number of columns of I =  512\n"
     ]
    }
   ],
   "source": [
    "# ++++++++++++++++++++++++++++++++++++++++++++++++++\n",
    "# complete the blanks\n",
    "#\n",
    "\n",
    "def getGrayMatrix(Image):\n",
    "    newrow = []\n",
    "    for row in I0:\n",
    "        newcol = []\n",
    "        \n",
    "        for col in row:\n",
    "            aver = 0\n",
    "            for k in col:\n",
    "                aver += k\n",
    "            aver = int(aver/3)\n",
    "            \n",
    "            newcol.append(aver)\n",
    "            \n",
    "        newrow.append(newcol)\n",
    "        \n",
    "    return newrow\n",
    "    \n",
    "I = np.asarray(getGrayMatrix(I0))\n",
    "        \n",
    "num_row     = I.shape[0]\n",
    "num_column  = I.shape[1]\n",
    "\n",
    "print(I.shape)\n",
    "\n",
    "#\n",
    "# ++++++++++++++++++++++++++++++++++++++++++++++++++\n",
    "\n",
    "print('number of rows of I = ', num_row)\n",
    "print('number of columns of I = ', num_column)"
   ]
  },
  {
   "cell_type": "markdown",
   "metadata": {},
   "source": [
    "## normalize the converted image\n",
    "- normalize the converted grey scale image so that its maximum value is 1 and its minimum value is 0"
   ]
  },
  {
   "cell_type": "code",
   "execution_count": 29,
   "metadata": {},
   "outputs": [
    {
     "name": "stdout",
     "output_type": "stream",
     "text": [
      "maximum value of I =  1.0\n",
      "minimum value of I =  0.0\n"
     ]
    }
   ],
   "source": [
    "# ++++++++++++++++++++++++++++++++++++++++++++++++++\n",
    "# complete the blanks\n",
    "#\n",
    "\n",
    "def normalize(d):\n",
    "    return (d - np.min(d)) / (np.max(d) - np.min(d))\n",
    "\n",
    "I = normalize(I)\n",
    "\n",
    "#\n",
    "# ++++++++++++++++++++++++++++++++++++++++++++++++++\n",
    "\n",
    "print('maximum value of I = ', np.max(I))\n",
    "print('minimum value of I = ', np.min(I))"
   ]
  },
  {
   "cell_type": "markdown",
   "metadata": {},
   "source": [
    "## define a function to compute the derivative of input matrix in x(row)-direction"
   ]
  },
  {
   "cell_type": "markdown",
   "metadata": {},
   "source": [
    "- forward difference : $ I[x+1, y] - I[x, y] $ "
   ]
  },
  {
   "cell_type": "code",
   "execution_count": 32,
   "metadata": {},
   "outputs": [
    {
     "name": "stdout",
     "output_type": "stream",
     "text": [
      "[[0.4488189  0.41338583 0.43307087 ... 0.5511811  0.51181102 0.01181102]\n",
      " [0.44094488 0.44094488 0.4015748  ... 0.54724409 0.52362205 0.00393701]\n",
      " [0.4015748  0.4488189  0.4015748  ... 0.57874016 0.51181102 0.00787402]\n",
      " ...\n",
      " [0.42913386 0.42519685 0.45275591 ... 0.69291339 0.77559055 0.03149606]\n",
      " [0.40551181 0.44094488 0.3976378  ... 0.74409449 0.68503937 0.        ]\n",
      " [0.38976378 0.40551181 0.37795276 ... 0.70866142 0.64566929 0.00393701]]\n",
      "[[-0.03543307  0.01968504  0.00787402 ... -0.03937008 -0.5\n",
      "   0.        ]\n",
      " [ 0.         -0.03937008  0.01968504 ... -0.02362205 -0.51968504\n",
      "   0.        ]\n",
      " [ 0.04724409 -0.04724409  0.02755906 ... -0.06692913 -0.50393701\n",
      "   0.        ]\n",
      " ...\n",
      " [-0.00393701  0.02755906 -0.0984252  ...  0.08267717 -0.74409449\n",
      "   0.        ]\n",
      " [ 0.03543307 -0.04330709 -0.00787402 ... -0.05905512 -0.68503937\n",
      "   0.        ]\n",
      " [ 0.01574803 -0.02755906  0.00393701 ... -0.06299213 -0.64173228\n",
      "   0.        ]]\n"
     ]
    },
    {
     "data": {
      "text/plain": [
       "<matplotlib.image.AxesImage at 0x13275b76020>"
      ]
     },
     "execution_count": 32,
     "metadata": {},
     "output_type": "execute_result"
    },
    {
     "data": {
      "image/png": "[encoded data removed]",
      "text/plain": [
       "<Figure size 432x288 with 1 Axes>"
      ]
     },
     "metadata": {
      "needs_background": "light"
     },
     "output_type": "display_data"
    }
   ],
   "source": [
    "def compute_derivative_x_forward(I):\n",
    "    \n",
    "    D = np.zeros(I.shape)\n",
    "    \n",
    "    # ++++++++++++++++++++++++++++++++++++++++++++++++++\n",
    "    # complete the blanks\n",
    "    #\n",
    "    for row in range(0,len(I)):\n",
    "        newrow = []\n",
    "        \n",
    "        for col in range(0,len(I[row])-1):\n",
    "            newcol = []\n",
    "            \n",
    "            temparr = I[row][col]\n",
    "            temparr2 = I[row][col+1]\n",
    "            \n",
    "                \n",
    "            D[row][col] = temparr2 - temparr     \n",
    "                \n",
    "    \n",
    "    \n",
    "    #\n",
    "    # ++++++++++++++++++++++++++++++++++++++++++++++++++\n",
    "    \n",
    "    return D"
   ]
  },
  {
   "cell_type": "markdown",
   "metadata": {},
   "source": [
    "- backward difference : $ I[x, y] - I[x-1, y] $ "
   ]
  },
  {
   "cell_type": "code",
   "execution_count": null,
   "metadata": {},
   "outputs": [],
   "source": [
    "def compute_derivative_x_backward(I):\n",
    "    \n",
    "    D = np.zeros(I.shape)\n",
    "    \n",
    "    # ++++++++++++++++++++++++++++++++++++++++++++++++++\n",
    "    # complete the blanks\n",
    "    #\n",
    "    \n",
    "    \n",
    "    \n",
    "    #\n",
    "    # ++++++++++++++++++++++++++++++++++++++++++++++++++\n",
    "    \n",
    "    return D"
   ]
  },
  {
   "cell_type": "markdown",
   "metadata": {},
   "source": [
    "- central difference : $ \\frac{1}{2} \\left( I[x+1, y] - I[x-1, y] \\right)$ "
   ]
  },
  {
   "cell_type": "code",
   "execution_count": null,
   "metadata": {},
   "outputs": [],
   "source": [
    "def compute_derivative_x_central(I):\n",
    "    \n",
    "    D = np.zeros(I.shape)\n",
    "    \n",
    "    # ++++++++++++++++++++++++++++++++++++++++++++++++++\n",
    "    # complete the blanks\n",
    "    #\n",
    "    \n",
    "    \n",
    "    \n",
    "    #\n",
    "    # ++++++++++++++++++++++++++++++++++++++++++++++++++\n",
    "    \n",
    "    return D"
   ]
  },
  {
   "cell_type": "markdown",
   "metadata": {},
   "source": [
    "## define a function to compute the derivative of input matrix in y(column)-direction"
   ]
  },
  {
   "cell_type": "markdown",
   "metadata": {},
   "source": [
    "- forward difference : $ I[x, y+1] - I[x, y] $ "
   ]
  },
  {
   "cell_type": "code",
   "execution_count": null,
   "metadata": {},
   "outputs": [],
   "source": [
    "def compute_derivative_y_forward(I):\n",
    "    \n",
    "    D = np.zeros(I.shape)\n",
    "    \n",
    "    # ++++++++++++++++++++++++++++++++++++++++++++++++++\n",
    "    # complete the blanks\n",
    "    #\n",
    "    \n",
    "    \n",
    "    \n",
    "    #\n",
    "    # ++++++++++++++++++++++++++++++++++++++++++++++++++\n",
    "    \n",
    "    return D"
   ]
  },
  {
   "cell_type": "markdown",
   "metadata": {},
   "source": [
    "- backward difference : $ I[x, y] - I[x, y-1] $ "
   ]
  },
  {
   "cell_type": "code",
   "execution_count": null,
   "metadata": {},
   "outputs": [],
   "source": [
    "def compute_derivative_y_backward(I):\n",
    "    \n",
    "    D = np.zeros(I.shape)\n",
    "    \n",
    "    # ++++++++++++++++++++++++++++++++++++++++++++++++++\n",
    "    # complete the blanks\n",
    "    #\n",
    "    \n",
    "    \n",
    "    \n",
    "    #\n",
    "    # ++++++++++++++++++++++++++++++++++++++++++++++++++\n",
    "    \n",
    "    return D"
   ]
  },
  {
   "cell_type": "markdown",
   "metadata": {},
   "source": [
    "- central difference : $ \\frac{1}{2} \\left( I[x, y+1] - I[x, y-1] \\right)$ "
   ]
  },
  {
   "cell_type": "code",
   "execution_count": null,
   "metadata": {},
   "outputs": [],
   "source": [
    "def compute_derivative_y_central(I):\n",
    "    \n",
    "    D = np.zeros(I.shape)\n",
    "    \n",
    "    # ++++++++++++++++++++++++++++++++++++++++++++++++++\n",
    "    # complete the blanks\n",
    "    #\n",
    "    \n",
    "    \n",
    "    \n",
    "    #\n",
    "    # ++++++++++++++++++++++++++++++++++++++++++++++++++\n",
    "    \n",
    "    return D"
   ]
  },
  {
   "cell_type": "markdown",
   "metadata": {},
   "source": [
    "## compute the norm of the gradient of the input image "
   ]
  },
  {
   "cell_type": "markdown",
   "metadata": {},
   "source": [
    "- $L_2^2$-norm of the gradient $ \\left( \\frac{\\partial I}{\\partial x}, \\frac{\\partial I}{\\partial y} \\right) $ is defined by $ \\left( \\frac{\\partial I}{\\partial x} \\right)^2 + \\left( \\frac{\\partial I}{\\partial y} \\right)^2 $"
   ]
  },
  {
   "cell_type": "code",
   "execution_count": null,
   "metadata": {},
   "outputs": [],
   "source": [
    "def compute_norm_gradient_central(I):\n",
    "    \n",
    "    norm_gradient = np.zeros(I.shape)\n",
    "    \n",
    "    # ++++++++++++++++++++++++++++++++++++++++++++++++++\n",
    "    # complete the blanks\n",
    "    #\n",
    "    \n",
    "    \n",
    "    \n",
    "    #\n",
    "    # ++++++++++++++++++++++++++++++++++++++++++++++++++\n",
    "    \n",
    "    return norm_gradient"
   ]
  },
  {
   "cell_type": "markdown",
   "metadata": {},
   "source": [
    "___"
   ]
  },
  {
   "cell_type": "markdown",
   "metadata": {},
   "source": [
    "___"
   ]
  },
  {
   "cell_type": "markdown",
   "metadata": {},
   "source": [
    "## functions for presenting the results"
   ]
  },
  {
   "cell_type": "markdown",
   "metadata": {},
   "source": [
    "___"
   ]
  },
  {
   "cell_type": "markdown",
   "metadata": {},
   "source": [
    "___"
   ]
  },
  {
   "cell_type": "code",
   "execution_count": null,
   "metadata": {},
   "outputs": [],
   "source": [
    "def function_result_01():\n",
    "    \n",
    "    plt.figure(figsize=(8,6))\n",
    "    plt.imshow(I0)\n",
    "    plt.show()"
   ]
  },
  {
   "cell_type": "code",
   "execution_count": null,
   "metadata": {},
   "outputs": [],
   "source": [
    "def function_result_02():\n",
    "    \n",
    "    plt.figure(figsize=(8,6))\n",
    "    plt.imshow(I, cmap='gray', vmin=0, vmax=1, interpolation='none')\n",
    "    plt.show()"
   ]
  },
  {
   "cell_type": "code",
   "execution_count": null,
   "metadata": {},
   "outputs": [],
   "source": [
    "def function_result_03():\n",
    "\n",
    "    D = compute_derivative_x_forward(I)\n",
    "    \n",
    "    plt.figure(figsize=(8,6))\n",
    "    plt.imshow(D, cmap='gray')\n",
    "    plt.show()"
   ]
  },
  {
   "cell_type": "code",
   "execution_count": null,
   "metadata": {},
   "outputs": [],
   "source": [
    "def function_result_04():\n",
    "\n",
    "    D = compute_derivative_x_backward(I)\n",
    "    \n",
    "    plt.figure(figsize=(8,6))\n",
    "    plt.imshow(D, cmap='gray')\n",
    "    plt.show()"
   ]
  },
  {
   "cell_type": "code",
   "execution_count": null,
   "metadata": {},
   "outputs": [],
   "source": [
    "def function_result_05():\n",
    "\n",
    "    D = compute_derivative_x_central(I)\n",
    "    \n",
    "    plt.figure(figsize=(8,6))\n",
    "    plt.imshow(D, cmap='gray')\n",
    "    plt.show()"
   ]
  },
  {
   "cell_type": "code",
   "execution_count": null,
   "metadata": {},
   "outputs": [],
   "source": [
    "def function_result_06():\n",
    "\n",
    "    D = compute_derivative_y_forward(I)\n",
    "    \n",
    "    plt.figure(figsize=(8,6))\n",
    "    plt.imshow(D, cmap='gray')\n",
    "    plt.show()"
   ]
  },
  {
   "cell_type": "code",
   "execution_count": null,
   "metadata": {},
   "outputs": [],
   "source": [
    "def function_result_07():\n",
    "\n",
    "    D = compute_derivative_y_backward(I)\n",
    "    \n",
    "    plt.figure(figsize=(8,6))\n",
    "    plt.imshow(D, cmap='gray')\n",
    "    plt.show()"
   ]
  },
  {
   "cell_type": "code",
   "execution_count": null,
   "metadata": {},
   "outputs": [],
   "source": [
    "def function_result_08():\n",
    "\n",
    "    D = compute_derivative_y_central(I)\n",
    "    \n",
    "    plt.figure(figsize=(8,6))\n",
    "    plt.imshow(D, cmap='gray')\n",
    "    plt.show()"
   ]
  },
  {
   "cell_type": "code",
   "execution_count": null,
   "metadata": {},
   "outputs": [],
   "source": [
    "def function_result_09():\n",
    "\n",
    "    D = compute_norm_gradient_central(I)\n",
    "    \n",
    "    plt.figure(figsize=(8,6))\n",
    "    plt.imshow(D, cmap='gray')\n",
    "    plt.show()"
   ]
  },
  {
   "cell_type": "code",
   "execution_count": null,
   "metadata": {},
   "outputs": [],
   "source": [
    "def function_result_10():\n",
    "\n",
    "    D = compute_norm_gradient_central(I)\n",
    "    \n",
    "    plt.figure(figsize=(8,6))\n",
    "    im = plt.imshow(D, cmap=cm.jet, norm=colors.LogNorm())\n",
    "    plt.colorbar(im)\n",
    "    plt.show()"
   ]
  },
  {
   "cell_type": "code",
   "execution_count": null,
   "metadata": {},
   "outputs": [],
   "source": [
    "def function_result_11():\n",
    "\n",
    "    D = compute_derivative_x_forward(I)\n",
    "\n",
    "    value1 = D[0, 0]    \n",
    "    value2 = D[-1, -1]    \n",
    "    value3 = D[100, 100]    \n",
    "    value4 = D[200, 200]\n",
    "\n",
    "    print('value1 = ', value1)\n",
    "    print('value2 = ', value2)\n",
    "    print('value3 = ', value3)\n",
    "    print('value4 = ', value4)\n"
   ]
  },
  {
   "cell_type": "code",
   "execution_count": null,
   "metadata": {},
   "outputs": [],
   "source": [
    "def function_result_12():\n",
    "\n",
    "    D = compute_derivative_x_backward(I)\n",
    "\n",
    "    value1 = D[0, 0]    \n",
    "    value2 = D[-1, -1]    \n",
    "    value3 = D[100, 100]    \n",
    "    value4 = D[200, 200]\n",
    "\n",
    "    print('value1 = ', value1)\n",
    "    print('value2 = ', value2)\n",
    "    print('value3 = ', value3)\n",
    "    print('value4 = ', value4)\n"
   ]
  },
  {
   "cell_type": "code",
   "execution_count": null,
   "metadata": {},
   "outputs": [],
   "source": [
    "def function_result_13():\n",
    "\n",
    "    D = compute_derivative_x_central(I)\n",
    "\n",
    "    value1 = D[0, 0]    \n",
    "    value2 = D[-1, -1]    \n",
    "    value3 = D[100, 100]    \n",
    "    value4 = D[200, 200]\n",
    "\n",
    "    print('value1 = ', value1)\n",
    "    print('value2 = ', value2)\n",
    "    print('value3 = ', value3)\n",
    "    print('value4 = ', value4)\n"
   ]
  },
  {
   "cell_type": "code",
   "execution_count": null,
   "metadata": {},
   "outputs": [],
   "source": [
    "def function_result_14():\n",
    "\n",
    "    D = compute_derivative_y_forward(I)\n",
    "\n",
    "    value1 = D[0, 0]    \n",
    "    value2 = D[-1, -1]    \n",
    "    value3 = D[100, 100]    \n",
    "    value4 = D[200, 200]\n",
    "\n",
    "    print('value1 = ', value1)\n",
    "    print('value2 = ', value2)\n",
    "    print('value3 = ', value3)\n",
    "    print('value4 = ', value4)\n"
   ]
  },
  {
   "cell_type": "code",
   "execution_count": null,
   "metadata": {},
   "outputs": [],
   "source": [
    "def function_result_15():\n",
    "\n",
    "    D = compute_derivative_y_backward(I)\n",
    "\n",
    "    value1 = D[0, 0]    \n",
    "    value2 = D[-1, -1]    \n",
    "    value3 = D[100, 100]    \n",
    "    value4 = D[200, 200]\n",
    "\n",
    "    print('value1 = ', value1)\n",
    "    print('value2 = ', value2)\n",
    "    print('value3 = ', value3)\n",
    "    print('value4 = ', value4)\n"
   ]
  },
  {
   "cell_type": "code",
   "execution_count": null,
   "metadata": {},
   "outputs": [],
   "source": [
    "def function_result_16():\n",
    "\n",
    "    D = compute_derivative_y_central(I)\n",
    "\n",
    "    value1 = D[0, 0]    \n",
    "    value2 = D[-1, -1]    \n",
    "    value3 = D[100, 100]    \n",
    "    value4 = D[200, 200]\n",
    "\n",
    "    print('value1 = ', value1)\n",
    "    print('value2 = ', value2)\n",
    "    print('value3 = ', value3)\n",
    "    print('value4 = ', value4)\n"
   ]
  },
  {
   "cell_type": "code",
   "execution_count": null,
   "metadata": {},
   "outputs": [],
   "source": [
    "def function_result_17():\n",
    "\n",
    "    D = compute_norm_gradient_central(I)\n",
    "\n",
    "    value1 = D[0, 0]    \n",
    "    value2 = D[-1, -1]    \n",
    "    value3 = D[100, 100]    \n",
    "    value4 = D[200, 200]\n",
    "\n",
    "    print('value1 = ', value1)\n",
    "    print('value2 = ', value2)\n",
    "    print('value3 = ', value3)\n",
    "    print('value4 = ', value4)\n"
   ]
  },
  {
   "cell_type": "markdown",
   "metadata": {},
   "source": [
    "___"
   ]
  },
  {
   "cell_type": "markdown",
   "metadata": {},
   "source": [
    "___"
   ]
  },
  {
   "cell_type": "markdown",
   "metadata": {},
   "source": [
    "# results"
   ]
  },
  {
   "cell_type": "markdown",
   "metadata": {},
   "source": [
    "___"
   ]
  },
  {
   "cell_type": "markdown",
   "metadata": {},
   "source": [
    "___"
   ]
  },
  {
   "cell_type": "code",
   "execution_count": null,
   "metadata": {},
   "outputs": [],
   "source": [
    "number_result = 17\n",
    "\n",
    "for i in range(number_result):\n",
    "    title = '## [RESULT {:02d}]'.format(i+1)\n",
    "    name_function = 'function_result_{:02d}()'.format(i+1)\n",
    "\n",
    "    print('**************************************************')\n",
    "    print(title)\n",
    "    print('**************************************************')\n",
    "    eval(name_function)"
   ]
  },
  {
   "cell_type": "code",
   "execution_count": null,
   "metadata": {},
   "outputs": [],
   "source": []
  }
 ],
 "metadata": {
  "kernelspec": {
   "display_name": "Python 3",
   "language": "python",
   "name": "python3"
  },
  "language_info": {
   "codemirror_mode": {
    "name": "ipython",
    "version": 3
   },
   "file_extension": ".py",
   "mimetype": "text/x-python",
   "name": "python",
   "nbconvert_exporter": "python",
   "pygments_lexer": "ipython3",
   "version": "3.10.2"
  }
 },
 "nbformat": 4,
 "nbformat_minor": 2
}
