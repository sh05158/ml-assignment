{
 "cells": [
  {
   "cell_type": "markdown",
   "metadata": {},
   "source": [
    "# K-means clustering"
   ]
  },
  {
   "cell_type": "markdown",
   "metadata": {},
   "source": [
    "## import library"
   ]
  },
  {
   "cell_type": "code",
   "execution_count": null,
   "metadata": {},
   "outputs": [],
   "source": [
    "import numpy as np\n",
    "import matplotlib.pyplot as plt\n",
    "import matplotlib.colors as colors\n",
    "from matplotlib import cm"
   ]
  },
  {
   "cell_type": "markdown",
   "metadata": {},
   "source": [
    "## load data"
   ]
  },
  {
   "cell_type": "code",
   "execution_count": null,
   "metadata": {},
   "outputs": [],
   "source": [
    "fname_data = 'assignment_11_data.csv'\n",
    "\n",
    "feature = np.genfromtxt(fname_data, delimiter=',')\n",
    "\n",
    "x = feature[:,0]\n",
    "y = feature[:,1]\n",
    "\n",
    "number_data     = np.size(feature, 0)\n",
    "number_feature  = np.size(feature, 1)\n",
    "\n",
    "print('number of data : {}'.format(number_data))\n",
    "print('number of feature : {}'.format(number_feature))"
   ]
  },
  {
   "cell_type": "markdown",
   "metadata": {},
   "source": [
    "## plot the input data"
   ]
  },
  {
   "cell_type": "code",
   "execution_count": null,
   "metadata": {},
   "outputs": [],
   "source": [
    "plt.figure(figsize=(8,8))   \n",
    "plt.title('input data')\n",
    "\n",
    "plt.scatter(x, y, color='blue')\n",
    "\n",
    "plt.tight_layout()\n",
    "plt.show()"
   ]
  },
  {
   "cell_type": "markdown",
   "metadata": {},
   "source": [
    "## compute distance\n",
    "- feature : $n \\times m$, center : $1 \\times m$, distance : $n \\times 1$\n",
    "- $n$ : number of data, $m$ : number of features"
   ]
  },
  {
   "cell_type": "code",
   "execution_count": null,
   "metadata": {},
   "outputs": [],
   "source": [
    "def compute_distance(feature, center):\n",
    "\n",
    "    # ++++++++++++++++++++++++++++++++++++++++++++++++++\n",
    "    # complete the blanks\n",
    "    #\n",
    "\n",
    "    distance = np.array([sum(np.power(feature - center,2)) for feature in feature],dtype=float)\n",
    "\n",
    "    #\n",
    "    # ++++++++++++++++++++++++++++++++++++++++++++++++++\n",
    "\n",
    "    return distance"
   ]
  },
  {
   "cell_type": "markdown",
   "metadata": {},
   "source": [
    "## compute centroid\n",
    "- feature : $n \\times m$, label_feature : $n \\times 1$, value_label : $1 \\times 1$, centroid : $1 \\times m$\n",
    "- $n$ : number of data, $m$ : number of features"
   ]
  },
  {
   "cell_type": "code",
   "execution_count": null,
   "metadata": {},
   "outputs": [],
   "source": [
    "def compute_centroid(feature, label_feature, label):\n",
    "\n",
    "    # ++++++++++++++++++++++++++++++++++++++++++++++++++\n",
    "    # complete the blanks\n",
    "    #\n",
    "\n",
    "    cluster=feature[label_feature==label]\n",
    "    center=np.sum(cluster)/len(cluster)\n",
    "    distance=compute_distance(cluster,center)\n",
    "    centroid=cluster[np.argmin(distance)]\n",
    "\n",
    "\n",
    "    #\n",
    "    # ++++++++++++++++++++++++++++++++++++++++++++++++++\n",
    "\n",
    "    return centroid"
   ]
  },
  {
   "cell_type": "markdown",
   "metadata": {},
   "source": [
    "## compute label\n",
    "- distance : $n \\times k$, label_feature : $n \\times 1$\n",
    "- $n$ : number of data, $k$ : number of clusters"
   ]
  },
  {
   "cell_type": "code",
   "execution_count": null,
   "metadata": {},
   "outputs": [],
   "source": [
    "def compute_label(distance):\n",
    "\n",
    "    # ++++++++++++++++++++++++++++++++++++++++++++++++++\n",
    "    # complete the blanks\n",
    "    #\n",
    "\n",
    "    label_feature=np.array([np.argmin(distance) for distance in distance],dtype = int)\n",
    "\n",
    "    #\n",
    "    # ++++++++++++++++++++++++++++++++++++++++++++++++++\n",
    "    \n",
    "    return label_feature\n"
   ]
  },
  {
   "cell_type": "markdown",
   "metadata": {},
   "source": [
    "## the number of clusters $K = 2$"
   ]
  },
  {
   "cell_type": "code",
   "execution_count": null,
   "metadata": {},
   "outputs": [],
   "source": [
    "number_cluster          = 2\n",
    "number_iteration        = 500     # you can modify this value\n",
    "loss_iteration_02       = np.zeros(number_iteration)\n",
    "centroid_iteration_02   = np.zeros((number_iteration, number_cluster, number_feature))\n",
    "label_feature_02        = np.random.randint(0, number_cluster, size=(number_data))"
   ]
  },
  {
   "cell_type": "code",
   "execution_count": null,
   "metadata": {
    "tags": []
   },
   "outputs": [],
   "source": [
    "# ++++++++++++++++++++++++++++++++++++++++++++++++++\n",
    "# complete the blanks\n",
    "#\n",
    "\n",
    "distance            = np.zeros(shape=(number_data, number_cluster))\n",
    "centroid            = feature[np.random.choice(number_data, number_cluster, replace=False), :]\n",
    "\n",
    "for i in range(number_iteration):\n",
    "    for j in range(number_cluster):\n",
    "        distance[:,j] = compute_distance(feature, centroid[j])\n",
    "    centroid_iteration_02[i] = centroid\n",
    "    label_feature_02 = compute_label(distance)\n",
    "    centroid = [compute_centroid(feature, label_feature_02, j) if len(feature[label_feature_02 == j]) > 0 else centroid[j] for j in range(number_cluster)]\n",
    "    loss_iteration_02[i] = sum(distance[range(number_data),label_feature_02])\n",
    "\n",
    "#\n",
    "# ++++++++++++++++++++++++++++++++++++++++++++++++++"
   ]
  },
  {
   "cell_type": "markdown",
   "metadata": {},
   "source": [
    "## the number of clusters $K = 4$"
   ]
  },
  {
   "cell_type": "code",
   "execution_count": null,
   "metadata": {},
   "outputs": [],
   "source": [
    "number_cluster          = 4\n",
    "number_iteration        = 200     # you can modify this value\n",
    "loss_iteration_04       = np.zeros(number_iteration)\n",
    "centroid_iteration_04   = np.zeros((number_iteration, number_cluster, number_feature))\n",
    "label_feature_04        = np.random.randint(0, number_cluster, size=(number_data))"
   ]
  },
  {
   "cell_type": "code",
   "execution_count": null,
   "metadata": {},
   "outputs": [],
   "source": [
    "# ++++++++++++++++++++++++++++++++++++++++++++++++++\n",
    "# complete the blanks\n",
    "#\n",
    "\n",
    "distance            = np.zeros(shape=(number_data, number_cluster))\n",
    "centroid            = feature[np.random.choice(number_data, number_cluster, replace=False), :]\n",
    "\n",
    "for i in range(number_iteration):\n",
    "    for j in range(number_cluster):\n",
    "        distance[:,j] = compute_distance(feature, centroid[j])\n",
    "    centroid_iteration_04[i] = centroid\n",
    "    label_feature_04 = compute_label(distance)\n",
    "    centroid = [compute_centroid(feature, label_feature_04, j) if len(feature[label_feature_04 == j]) > 0 else centroid[j] for j in range(number_cluster)]\n",
    "    loss_iteration_04[i] = sum(distance[range(number_data),label_feature_04])\n",
    "\n",
    "#\n",
    "# ++++++++++++++++++++++++++++++++++++++++++++++++++"
   ]
  },
  {
   "cell_type": "markdown",
   "metadata": {},
   "source": [
    "## the number of clusters $K = 8$"
   ]
  },
  {
   "cell_type": "code",
   "execution_count": null,
   "metadata": {},
   "outputs": [],
   "source": [
    "number_cluster          = 8\n",
    "number_iteration        = 2     # you can modify this value\n",
    "loss_iteration_08       = np.zeros(number_iteration)\n",
    "centroid_iteration_08   = np.zeros((number_iteration, number_cluster, number_feature))\n",
    "label_feature_08        = np.random.randint(0, number_cluster, size=(number_data))"
   ]
  },
  {
   "cell_type": "code",
   "execution_count": null,
   "metadata": {},
   "outputs": [],
   "source": [
    "# ++++++++++++++++++++++++++++++++++++++++++++++++++\n",
    "# complete the blanks\n",
    "#\n",
    "\n",
    "distance            = np.zeros(shape=(number_data, number_cluster))\n",
    "centroid            = feature[np.random.choice(number_data, number_cluster, replace=False), :]\n",
    "\n",
    "for i in range(number_iteration):\n",
    "    for j in range(number_cluster):\n",
    "        distance[:,j] = compute_distance(feature, centroid[j])\n",
    "    centroid_iteration_08[i] = centroid\n",
    "    label_feature_08 = compute_label(distance)\n",
    "    centroid = [compute_centroid(feature, label_feature_08, j) if len(feature[label_feature_08 == j]) > 0 else centroid[j] for j in range(number_cluster)]\n",
    "    loss_iteration_08[i] = sum(distance[range(number_data),label_feature_08])\n",
    "    \n",
    "#\n",
    "# ++++++++++++++++++++++++++++++++++++++++++++++++++"
   ]
  },
  {
   "cell_type": "markdown",
   "metadata": {},
   "source": [
    "## the number of clusters $K = 16$"
   ]
  },
  {
   "cell_type": "code",
   "execution_count": null,
   "metadata": {},
   "outputs": [],
   "source": [
    "number_cluster          = 16\n",
    "number_iteration        = 2     # you can modify this value\n",
    "loss_iteration_16       = np.zeros(number_iteration)\n",
    "centroid_iteration_16   = np.zeros((number_iteration, number_cluster, number_feature))\n",
    "label_feature_16        = np.random.randint(0, number_cluster, size=(number_data))"
   ]
  },
  {
   "cell_type": "code",
   "execution_count": null,
   "metadata": {},
   "outputs": [],
   "source": [
    "# ++++++++++++++++++++++++++++++++++++++++++++++++++\n",
    "# complete the blanks\n",
    "#\n",
    "\n",
    "distance            = np.zeros(shape=(number_data, number_cluster))\n",
    "centroid            = feature[np.random.choice(number_data, number_cluster, replace=False), :]\n",
    "\n",
    "for i in range(number_iteration):\n",
    "    for j in range(number_cluster):\n",
    "        distance[:,j] = compute_distance(feature, centroid[j])\n",
    "    centroid_iteration_16[i] = centroid\n",
    "    label_feature_16 = compute_label(distance)\n",
    "    centroid = [compute_centroid(feature, label_feature_16, j) if len(feature[label_feature_16 == j]) > 0 else centroid[j] for j in range(number_cluster)]\n",
    "    loss_iteration_16[i] = sum(distance[range(number_data),label_feature_16])\n",
    "\n",
    "\n",
    "#\n",
    "# ++++++++++++++++++++++++++++++++++++++++++++++++++"
   ]
  },
  {
   "cell_type": "markdown",
   "metadata": {},
   "source": [
    "---"
   ]
  },
  {
   "cell_type": "markdown",
   "metadata": {},
   "source": [
    "---"
   ]
  },
  {
   "cell_type": "markdown",
   "metadata": {},
   "source": [
    "## functions for presenting the results"
   ]
  },
  {
   "cell_type": "markdown",
   "metadata": {},
   "source": [
    "---"
   ]
  },
  {
   "cell_type": "markdown",
   "metadata": {},
   "source": [
    "---"
   ]
  },
  {
   "cell_type": "code",
   "execution_count": null,
   "metadata": {},
   "outputs": [],
   "source": [
    "def function_result_01():\n",
    "\n",
    "    print(\"final loss (K=2) = {:13.10f}\".format(loss_iteration_02[-1]))\n",
    "function_result_01()"
   ]
  },
  {
   "cell_type": "code",
   "execution_count": null,
   "metadata": {},
   "outputs": [],
   "source": [
    "def function_result_02():\n",
    "\n",
    "    print(\"final loss (K=4) = {:13.10f}\".format(loss_iteration_04[-1]))\n",
    "function_result_02()"
   ]
  },
  {
   "cell_type": "code",
   "execution_count": null,
   "metadata": {},
   "outputs": [],
   "source": [
    "def function_result_03():\n",
    "\n",
    "    print(\"final loss (K=8) = {:13.10f}\".format(loss_iteration_08[-1]))\n",
    "    "
   ]
  },
  {
   "cell_type": "code",
   "execution_count": null,
   "metadata": {},
   "outputs": [],
   "source": [
    "def function_result_04():\n",
    "\n",
    "    print(\"final loss (K=16) = {:13.10f}\".format(loss_iteration_16[-1]))\n",
    "    "
   ]
  },
  {
   "cell_type": "code",
   "execution_count": null,
   "metadata": {},
   "outputs": [],
   "source": [
    "def function_result_05():\n",
    "    \n",
    "    plt.figure(figsize=(8,6)) \n",
    "    plt.title('loss (K=2)')\n",
    "\n",
    "    plt.plot(loss_iteration_02, '-', color='red')\n",
    "    plt.xlabel('iteration')\n",
    "    plt.ylabel('loss')\n",
    "    \n",
    "    plt.tight_layout()\n",
    "    plt.show()"
   ]
  },
  {
   "cell_type": "code",
   "execution_count": null,
   "metadata": {},
   "outputs": [],
   "source": [
    "def function_result_06():\n",
    "    \n",
    "    plt.figure(figsize=(8,6)) \n",
    "    plt.title('loss (K=4)')\n",
    "\n",
    "    plt.plot(loss_iteration_04, '-', color='red')\n",
    "    plt.xlabel('iteration')\n",
    "    plt.ylabel('loss')\n",
    "    \n",
    "    plt.tight_layout()\n",
    "    plt.show()"
   ]
  },
  {
   "cell_type": "code",
   "execution_count": null,
   "metadata": {},
   "outputs": [],
   "source": [
    "def function_result_07():\n",
    "    \n",
    "    plt.figure(figsize=(8,6))\n",
    "    plt.title('loss (K=8)')\n",
    "\n",
    "    plt.plot(loss_iteration_08, '-', color='red')\n",
    "    plt.xlabel('iteration')\n",
    "    plt.ylabel('loss')\n",
    "    \n",
    "    plt.tight_layout()\n",
    "    plt.show()"
   ]
  },
  {
   "cell_type": "code",
   "execution_count": null,
   "metadata": {},
   "outputs": [],
   "source": [
    "def function_result_08():\n",
    "    \n",
    "    plt.figure(figsize=(8,6))\n",
    "    plt.title('loss (K=16)')\n",
    "\n",
    "    plt.plot(loss_iteration_16, '-', color='red')\n",
    "    plt.xlabel('iteration')\n",
    "    plt.ylabel('loss')\n",
    "    \n",
    "    plt.tight_layout()\n",
    "    plt.show()"
   ]
  },
  {
   "cell_type": "code",
   "execution_count": null,
   "metadata": {},
   "outputs": [],
   "source": [
    "def function_result_09():\n",
    "\n",
    "    plt.figure(figsize=(8,8))\n",
    "    plt.title('centroid (K=2)')\n",
    "\n",
    "    # ++++++++++++++++++++++++++++++++++++++++++++++++++\n",
    "    # complete the blanks\n",
    "    #\n",
    "\n",
    "\n",
    "\n",
    "    #\n",
    "    # ++++++++++++++++++++++++++++++++++++++++++++++++++"
   ]
  },
  {
   "cell_type": "code",
   "execution_count": null,
   "metadata": {},
   "outputs": [],
   "source": [
    "def function_result_10():\n",
    "\n",
    "    plt.figure(figsize=(8,8))\n",
    "    plt.title('centroid (K=4)')\n",
    "\n",
    "    # ++++++++++++++++++++++++++++++++++++++++++++++++++\n",
    "    # complete the blanks\n",
    "    #\n",
    "\n",
    "\n",
    "    #\n",
    "    # ++++++++++++++++++++++++++++++++++++++++++++++++++"
   ]
  },
  {
   "cell_type": "code",
   "execution_count": null,
   "metadata": {},
   "outputs": [],
   "source": [
    "def function_result_11():\n",
    "\n",
    "    plt.figure(figsize=(8,8))\n",
    "    plt.title('centroid (K=8)')\n",
    "\n",
    "    # ++++++++++++++++++++++++++++++++++++++++++++++++++\n",
    "    # complete the blanks\n",
    "    #\n",
    "\n",
    "    #\n",
    "    # ++++++++++++++++++++++++++++++++++++++++++++++++++"
   ]
  },
  {
   "cell_type": "code",
   "execution_count": null,
   "metadata": {},
   "outputs": [],
   "source": [
    "def function_result_12():\n",
    "\n",
    "    plt.figure(figsize=(8,8))\n",
    "    plt.title('centroid (K=16)')\n",
    "\n",
    "    # ++++++++++++++++++++++++++++++++++++++++++++++++++\n",
    "    # complete the blanks\n",
    "    #\n",
    "    for i in range(number_cluster):\n",
    "        plt.plot(centroid_iteration_16[:,i,0], centroid_iteration_16[:,i,1], '-', label = 'cluster=' + str(i))\n",
    "    plt.plot(centroid_iteration_16[0,:,0], centroid_iteration_16[0,:,1], 'bo', label = 'initial')\n",
    "    plt.plot(centroid_iteration_16[-1,:,0], centroid_iteration_16[-1,:,1], 'rs', label = 'final')\n",
    "\n",
    "    plt.legend()\n",
    "    plt.tight_layout()\n",
    "    plt.show()\n",
    "\n",
    "    #\n",
    "    # ++++++++++++++++++++++++++++++++++++++++++++++++++"
   ]
  },
  {
   "cell_type": "code",
   "execution_count": null,
   "metadata": {},
   "outputs": [],
   "source": [
    "def function_result_13():\n",
    "\n",
    "    plt.figure(figsize=(8,8))\n",
    "    plt.title('cluster (K=2)')\n",
    "\n",
    "    # ++++++++++++++++++++++++++++++++++++++++++++++++++\n",
    "    # complete the blanks\n",
    "    #\n",
    "\n",
    "\n",
    "    #\n",
    "    # ++++++++++++++++++++++++++++++++++++++++++++++++++"
   ]
  },
  {
   "cell_type": "code",
   "execution_count": null,
   "metadata": {},
   "outputs": [],
   "source": [
    "def function_result_14():\n",
    "\n",
    "    plt.figure(figsize=(8,8))\n",
    "    plt.title('cluster (K=4)')\n",
    "\n",
    "    # ++++++++++++++++++++++++++++++++++++++++++++++++++\n",
    "    # complete the blanks\n",
    "    #\n",
    "\n",
    "    #\n",
    "    # ++++++++++++++++++++++++++++++++++++++++++++++++++"
   ]
  },
  {
   "cell_type": "code",
   "execution_count": null,
   "metadata": {},
   "outputs": [],
   "source": [
    "def function_result_15():\n",
    "\n",
    "    plt.figure(figsize=(8,8))\n",
    "    plt.title('cluster (K=8)')\n",
    "\n",
    "    # ++++++++++++++++++++++++++++++++++++++++++++++++++\n",
    "    # complete the blanks\n",
    "    #\n",
    "\n",
    "    #\n",
    "    # ++++++++++++++++++++++++++++++++++++++++++++++++++"
   ]
  },
  {
   "cell_type": "code",
   "execution_count": null,
   "metadata": {},
   "outputs": [],
   "source": [
    "def function_result_16():\n",
    "\n",
    "    plt.figure(figsize=(8,8))\n",
    "    plt.title('cluster (K=16)')\n",
    "\n",
    "    # ++++++++++++++++++++++++++++++++++++++++++++++++++\n",
    "    # complete the blanks\n",
    "    #\n",
    "\n",
    "    #\n",
    "    # ++++++++++++++++++++++++++++++++++++++++++++++++++"
   ]
  },
  {
   "cell_type": "markdown",
   "metadata": {},
   "source": [
    "---"
   ]
  },
  {
   "cell_type": "markdown",
   "metadata": {},
   "source": [
    "---"
   ]
  },
  {
   "cell_type": "markdown",
   "metadata": {},
   "source": [
    "## results"
   ]
  },
  {
   "cell_type": "markdown",
   "metadata": {},
   "source": [
    "---"
   ]
  },
  {
   "cell_type": "markdown",
   "metadata": {},
   "source": [
    "---"
   ]
  },
  {
   "cell_type": "code",
   "execution_count": null,
   "metadata": {},
   "outputs": [],
   "source": [
    "number_result = 16\n",
    "\n",
    "for i in range(number_result):\n",
    "    title = '## [RESULT {:02d}]'.format(i+1)\n",
    "    name_function = 'function_result_{:02d}()'.format(i+1)\n",
    "\n",
    "    print('**************************************************')\n",
    "    print(title)\n",
    "    print('**************************************************')\n",
    "    eval(name_function)"
   ]
  }
 ],
 "metadata": {
  "interpreter": {
   "hash": "729a303134f29df185654677f72cddaadfa2b036432d0947f361b4667629a4bd"
  },
  "kernelspec": {
   "display_name": "Python 3.9.12 ('yolo')",
   "language": "python",
   "name": "python3"
  },
  "language_info": {
   "codemirror_mode": {
    "name": "ipython",
    "version": 3
   },
   "file_extension": ".py",
   "mimetype": "text/x-python",
   "name": "python",
   "nbconvert_exporter": "python",
   "pygments_lexer": "ipython3",
   "version": "3.9.12"
  },
  "metadata": {
   "interpreter": {
    "hash": "aee8b7b246df8f9039afb4144a1f6fd8d2ca17a180786b69acc140d282b71a49"
   }
  }
 },
 "nbformat": 4,
 "nbformat_minor": 2
}
